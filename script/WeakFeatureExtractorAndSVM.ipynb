{
 "cells": [
  {
   "cell_type": "code",
   "execution_count": 14,
   "metadata": {},
   "outputs": [],
   "source": [
    "import glob\n",
    "import pandas as pd\n",
    "import numpy as np\n",
    "from sklearn import svm\n",
    "from sklearn.metrics import confusion_matrix\n",
    "from sklearn.model_selection import GridSearchCV, cross_val_score\n",
    "import os\n",
    "import matplotlib.pyplot as plt\n",
    "%matplotlib inline \n",
    "\n",
    "from weak_feature_extractor import feat_extractor as fe"
   ]
  },
  {
   "cell_type": "code",
   "execution_count": 2,
   "metadata": {},
   "outputs": [],
   "source": [
    "audio_folder = '/Users/avidwans/Documents/CBIR/CBIR_data/audio_train/'\n",
    "\n",
    "split_files = '/Users/avidwans/Documents/CBIR/cbir-develop/dcase2018_gen/'\n",
    "train_lbl_files = split_files + 'train.labels'\n",
    "train_meta = split_files + 'train.meta'\n",
    "test_lbl_files = split_files + 'test.labels'\n",
    "test_meta = split_files + 'test.meta'\n",
    "\n",
    "# read train and test labels from file\n",
    "tr_lbl_onehot = np.loadtxt(train_lbl_files, delimiter=',', skiprows=1)\n",
    "ts_lbl_onehot = np.loadtxt(test_lbl_files, delimiter=',', skiprows=1)"
   ]
  },
  {
   "cell_type": "code",
   "execution_count": 3,
   "metadata": {},
   "outputs": [],
   "source": [
    "#convert one hot labels to integer\n",
    "tr_lbl = [ np.where(r==1)[0][0] for r in tr_lbl_onehot ]\n",
    "ts_lbl = [ np.where(r==1)[0][0] for r in ts_lbl_onehot ]\n",
    "tr_files = pd.read_csv(train_meta)\n",
    "tr_features = np.empty([len(tr_lbl), 1024])\n",
    "ts_files = pd.read_csv(test_meta)\n",
    "ts_features = np.empty([len(ts_lbl), 1024])"
   ]
  },
  {
   "cell_type": "code",
   "execution_count": 4,
   "metadata": {},
   "outputs": [],
   "source": [
    "tr_features = np.loadtxt(\"train_features.csv\", delimiter=',')\n",
    "ts_features = np.loadtxt(\"test_features.csv\", delimiter=',')"
   ]
  },
  {
   "cell_type": "code",
   "execution_count": 5,
   "metadata": {},
   "outputs": [
    {
     "name": "stdout",
     "output_type": "stream",
     "text": [
      "0.7331896551724137\n",
      "[[59  0  0 ...  0  1  0]\n",
      " [ 0 87  1 ...  1  0  0]\n",
      " [ 0  0 47 ...  0  0  2]\n",
      " ...\n",
      " [ 0  1  0 ... 62  0  1]\n",
      " [ 3  0  0 ...  0  6  1]\n",
      " [ 1  0  0 ...  0  0 51]]\n"
     ]
    }
   ],
   "source": [
    "linsvm_model = svm.SVC(kernel = 'linear').fit(tr_features,tr_lbl)\n",
    "ts_pred = linsvm_model.predict(ts_features)\n",
    "\n",
    "accuracy = linsvm_model.score(ts_features, ts_lbl)\n",
    "print(accuracy)\n",
    "\n",
    "cm = confusion_matrix(ts_lbl, ts_pred)\n",
    "print(cm)"
   ]
  },
  {
   "cell_type": "code",
   "execution_count": null,
   "metadata": {},
   "outputs": [],
   "source": [
    "ts_lbl_str = "
   ]
  },
  {
   "cell_type": "code",
   "execution_count": 6,
   "metadata": {},
   "outputs": [
    {
     "data": {
      "text/plain": [
       "array([ 82,  96,  63, 111,  59,  26,  65,  24,  61,  34,  68,  37,  85,\n",
       "        45,  29,  94,  15,  90,  59,  11,  78,  25,  29,  78,  32,  65,\n",
       "        94,  34,  30,  80,  25,  23,  88,  88,  85,  50,  92,  20,  73,\n",
       "        14,  63])"
      ]
     },
     "execution_count": 6,
     "metadata": {},
     "output_type": "execute_result"
    }
   ],
   "source": [
    "sum(cm)"
   ]
  },
  {
   "cell_type": "code",
   "execution_count": null,
   "metadata": {},
   "outputs": [],
   "source": [
    "def plot_confusion_matrix(cm, classes,\n",
    "                          normalize=False,\n",
    "                          title='Confusion matrix',\n",
    "                          cmap=plt.cm.Blues):\n",
    "    \"\"\"\n",
    "    This function prints and plots the confusion matrix.\n",
    "    Normalization can be applied by setting `normalize=True`.\n",
    "    \"\"\"\n",
    "    if normalize:\n",
    "        cm = cm.astype('float') / cm.sum(axis=1)[:, np.newaxis]\n",
    "        print(\"Normalized confusion matrix\")\n",
    "    else:\n",
    "        print('Confusion matrix, without normalization')\n",
    "\n",
    "    print(cm)\n",
    "\n",
    "    plt.imshow(cm, interpolation='nearest', cmap=cmap)\n",
    "    plt.title(title)\n",
    "    plt.colorbar()\n",
    "    tick_marks = np.arange(len(classes))\n",
    "    plt.xticks(tick_marks, classes, rotation=45)\n",
    "    plt.yticks(tick_marks, classes)\n",
    "\n",
    "    fmt = '.2f' if normalize else 'd'\n",
    "    thresh = cm.max() / 2.\n",
    "    for i, j in itertools.product(range(cm.shape[0]), range(cm.shape[1])):\n",
    "        plt.text(j, i, format(cm[i, j], fmt),\n",
    "                 horizontalalignment=\"center\",\n",
    "                 color=\"white\" if cm[i, j] > thresh else \"black\")\n",
    "\n",
    "    plt.tight_layout()\n",
    "    plt.ylabel('True label')\n",
    "    plt.xlabel('Predicted label')\n",
    "    \n",
    "plt.figure()\n",
    "plot_confusion_matrix(cnf_matrix, classes=class_names,\n",
    "                      title='Confusion matrix, without normalization')"
   ]
  },
  {
   "cell_type": "code",
   "execution_count": 10,
   "metadata": {},
   "outputs": [],
   "source": [
    "unique, counts = np.unique(tr_lbl, return_counts=True)\n",
    "tr_hist = np.asarray((unique, counts)).T"
   ]
  },
  {
   "cell_type": "code",
   "execution_count": 11,
   "metadata": {},
   "outputs": [],
   "source": [
    "unique, counts = np.unique(ts_lbl, return_counts=True)\n",
    "ts_hist = np.asarray((unique, counts)).T"
   ]
  },
  {
   "cell_type": "code",
   "execution_count": 12,
   "metadata": {},
   "outputs": [
    {
     "data": {
      "text/plain": [
       "<Container object of 41 artists>"
      ]
     },
     "execution_count": 12,
     "metadata": {},
     "output_type": "execute_result"
    },
    {
     "data": {
      "image/png": "[encoded data removed]",
      "text/plain": [
       "<matplotlib.figure.Figure at 0x1c24e9a990>"
      ]
     },
     "metadata": {},
     "output_type": "display_data"
    }
   ],
   "source": [
    "plt.bar(tr_hist[:,0],tr_hist[:,1])"
   ]
  },
  {
   "cell_type": "code",
   "execution_count": 13,
   "metadata": {
    "scrolled": true
   },
   "outputs": [
    {
     "data": {
      "text/plain": [
       "<Container object of 41 artists>"
      ]
     },
     "execution_count": 13,
     "metadata": {},
     "output_type": "execute_result"
    },
    {
     "data": {
      "image/png": "[encoded data removed]",
      "text/plain": [
       "<matplotlib.figure.Figure at 0x1c2de76710>"
      ]
     },
     "metadata": {},
     "output_type": "display_data"
    }
   ],
   "source": [
    "plt.bar(ts_hist[:,0],ts_hist[:,1])"
   ]
  },
  {
   "cell_type": "code",
   "execution_count": 17,
   "metadata": {},
   "outputs": [],
   "source": [
    "#crossvalidation for selection of best C parameter.."
   ]
  },
  {
   "cell_type": "code",
   "execution_count": 16,
   "metadata": {},
   "outputs": [
    {
     "name": "stdout",
     "output_type": "stream",
     "text": [
      "0.748077729623934\n",
      "0.1\n",
      "0.7301724137931035\n"
     ]
    }
   ],
   "source": [
    "Cs = np.logspace(-6, -1, 10)\n",
    "svc = svm.SVC(kernel = 'linear')\n",
    "clf = GridSearchCV(estimator=svc, param_grid=dict(C=Cs), n_jobs=-1)\n",
    "clf.fit(tr_features,tr_lbl) \n",
    "print(clf.best_score_)\n",
    "print(clf.best_estimator_.C)\n",
    "print(clf.score(ts_features,ts_lbl))"
   ]
  },
  {
   "cell_type": "code",
   "execution_count": null,
   "metadata": {},
   "outputs": [],
   "source": []
  }
 ],
 "metadata": {
  "kernelspec": {
   "display_name": "Python 2",
   "language": "python",
   "name": "python2"
  },
  "language_info": {
   "codemirror_mode": {
    "name": "ipython",
    "version": 2
   },
   "file_extension": ".py",
   "mimetype": "text/x-python",
   "name": "python",
   "nbconvert_exporter": "python",
   "pygments_lexer": "ipython2",
   "version": "2.7.14"
  }
 },
 "nbformat": 4,
 "nbformat_minor": 2
}
